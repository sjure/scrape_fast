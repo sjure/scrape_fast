{
 "cells": [
  {
   "cell_type": "code",
   "execution_count": 35,
   "metadata": {},
   "outputs": [],
   "source": [
    "import requests\n",
    "import urllib.request\n",
    "import time\n",
    "import smtplib\n",
    "from html.parser import HTMLParser\n",
    "url = 'http://www.returbil.no/freecar.asp'\n",
    "response = requests.get(url)"
   ]
  },
  {
   "cell_type": "code",
   "execution_count": 36,
   "metadata": {},
   "outputs": [
    {
     "data": {
      "text/plain": [
       "<Response [200]>"
      ]
     },
     "execution_count": 36,
     "metadata": {},
     "output_type": "execute_result"
    }
   ],
   "source": [
    "response"
   ]
  },
  {
   "cell_type": "code",
   "execution_count": 91,
   "metadata": {},
   "outputs": [],
   "source": [
    "emails =[\"sjurbes@gmail.com\"]\n",
    "class MyHTMLParser(HTMLParser):\n",
    "    def __init__(self):\n",
    "        HTMLParser.__init__(self)\n",
    "        self.in_td= False\n",
    "        self.col_count=0\n",
    "        self.from_test = \"test\"\n",
    "        self.to_test = \"test\"\n",
    "        self.is_taken=False\n",
    "    \n",
    "    def handle_data(self,data):\n",
    "        if(self.in_td):\n",
    "            #print(data,self.col_count)\n",
    "            if self.col_count==6:\n",
    "                #print(\"from\",data)\n",
    "                self.from_test = data\n",
    "            elif self.col_count==8:\n",
    "                #print(\"to\",data)\n",
    "                self.to_test=data\n",
    "                #print(self.is_taken)\n",
    "\n",
    "    def handle_endtag(self,tag):\n",
    "        if (self.in_td):\n",
    "            if tag == \"tr\":\n",
    "                if \"Oslo\" in self.from_test and \"Trondheim\" in self.to_test and not self.is_taken:\n",
    "                    for mail in emails:\n",
    "                        gm.send_message(\"sjurbes@gmail.com\",\"Returbil fra oslo til trondheim er ledig\",\"Returbil fra oslo til trondheim er ledig\")\n",
    "                if \"Oslo\" in self.to_test and \"Trondheim\" in self.from_test and self.is_taken:\n",
    "                    for mail in emails:\n",
    "                        gm.send_message(\"sjurbes@gmail.com\",\"Returbil fra oslo til trondheim er ledig\",\"Returbil fra oslo til trondheim er ledig\")\n",
    "                self.in_td = False\n",
    "                self.col_count=0\n",
    "                \n",
    "    def handle_starttag(self, tag, attrs):\n",
    "        if tag == 'tr':\n",
    "            try:\n",
    "                if attrs[0][1] == \"#EFEFEF\" and len(attrs)==1:\n",
    "                    self.in_td = True\n",
    "            except:\n",
    "                pass\n",
    "        if self.in_td:\n",
    "            if tag ==\"td\":\n",
    "                self.col_count+=1\n",
    "            if tag ==\"i\":\n",
    "                self.is_taken=True"
   ]
  },
  {
   "cell_type": "code",
   "execution_count": 92,
   "metadata": {},
   "outputs": [
    {
     "ename": "NameError",
     "evalue": "name 'gm' is not defined",
     "output_type": "error",
     "traceback": [
      "\u001b[1;31m---------------------------------------------------------------------------\u001b[0m",
      "\u001b[1;31mNameError\u001b[0m                                 Traceback (most recent call last)",
      "\u001b[1;32m<ipython-input-92-d7f2466649c1>\u001b[0m in \u001b[0;36m<module>\u001b[1;34m\u001b[0m\n\u001b[0;32m      1\u001b[0m \u001b[0mparser\u001b[0m \u001b[1;33m=\u001b[0m \u001b[0mMyHTMLParser\u001b[0m\u001b[1;33m(\u001b[0m\u001b[1;33m)\u001b[0m\u001b[1;33m\u001b[0m\u001b[0m\n\u001b[1;32m----> 2\u001b[1;33m \u001b[0mparser\u001b[0m\u001b[1;33m.\u001b[0m\u001b[0mfeed\u001b[0m\u001b[1;33m(\u001b[0m\u001b[0mresponse\u001b[0m\u001b[1;33m.\u001b[0m\u001b[0mtext\u001b[0m\u001b[1;33m)\u001b[0m\u001b[1;33m\u001b[0m\u001b[0m\n\u001b[0m",
      "\u001b[1;32m~\\AppData\\Local\\Programs\\Python\\Python37\\lib\\html\\parser.py\u001b[0m in \u001b[0;36mfeed\u001b[1;34m(self, data)\u001b[0m\n\u001b[0;32m    109\u001b[0m         \"\"\"\n\u001b[0;32m    110\u001b[0m         \u001b[0mself\u001b[0m\u001b[1;33m.\u001b[0m\u001b[0mrawdata\u001b[0m \u001b[1;33m=\u001b[0m \u001b[0mself\u001b[0m\u001b[1;33m.\u001b[0m\u001b[0mrawdata\u001b[0m \u001b[1;33m+\u001b[0m \u001b[0mdata\u001b[0m\u001b[1;33m\u001b[0m\u001b[0m\n\u001b[1;32m--> 111\u001b[1;33m         \u001b[0mself\u001b[0m\u001b[1;33m.\u001b[0m\u001b[0mgoahead\u001b[0m\u001b[1;33m(\u001b[0m\u001b[1;36m0\u001b[0m\u001b[1;33m)\u001b[0m\u001b[1;33m\u001b[0m\u001b[0m\n\u001b[0m\u001b[0;32m    112\u001b[0m \u001b[1;33m\u001b[0m\u001b[0m\n\u001b[0;32m    113\u001b[0m     \u001b[1;32mdef\u001b[0m \u001b[0mclose\u001b[0m\u001b[1;33m(\u001b[0m\u001b[0mself\u001b[0m\u001b[1;33m)\u001b[0m\u001b[1;33m:\u001b[0m\u001b[1;33m\u001b[0m\u001b[0m\n",
      "\u001b[1;32m~\\AppData\\Local\\Programs\\Python\\Python37\\lib\\html\\parser.py\u001b[0m in \u001b[0;36mgoahead\u001b[1;34m(self, end)\u001b[0m\n\u001b[0;32m    171\u001b[0m                     \u001b[0mk\u001b[0m \u001b[1;33m=\u001b[0m \u001b[0mself\u001b[0m\u001b[1;33m.\u001b[0m\u001b[0mparse_starttag\u001b[0m\u001b[1;33m(\u001b[0m\u001b[0mi\u001b[0m\u001b[1;33m)\u001b[0m\u001b[1;33m\u001b[0m\u001b[0m\n\u001b[0;32m    172\u001b[0m                 \u001b[1;32melif\u001b[0m \u001b[0mstartswith\u001b[0m\u001b[1;33m(\u001b[0m\u001b[1;34m\"</\"\u001b[0m\u001b[1;33m,\u001b[0m \u001b[0mi\u001b[0m\u001b[1;33m)\u001b[0m\u001b[1;33m:\u001b[0m\u001b[1;33m\u001b[0m\u001b[0m\n\u001b[1;32m--> 173\u001b[1;33m                     \u001b[0mk\u001b[0m \u001b[1;33m=\u001b[0m \u001b[0mself\u001b[0m\u001b[1;33m.\u001b[0m\u001b[0mparse_endtag\u001b[0m\u001b[1;33m(\u001b[0m\u001b[0mi\u001b[0m\u001b[1;33m)\u001b[0m\u001b[1;33m\u001b[0m\u001b[0m\n\u001b[0m\u001b[0;32m    174\u001b[0m                 \u001b[1;32melif\u001b[0m \u001b[0mstartswith\u001b[0m\u001b[1;33m(\u001b[0m\u001b[1;34m\"<!--\"\u001b[0m\u001b[1;33m,\u001b[0m \u001b[0mi\u001b[0m\u001b[1;33m)\u001b[0m\u001b[1;33m:\u001b[0m\u001b[1;33m\u001b[0m\u001b[0m\n\u001b[0;32m    175\u001b[0m                     \u001b[0mk\u001b[0m \u001b[1;33m=\u001b[0m \u001b[0mself\u001b[0m\u001b[1;33m.\u001b[0m\u001b[0mparse_comment\u001b[0m\u001b[1;33m(\u001b[0m\u001b[0mi\u001b[0m\u001b[1;33m)\u001b[0m\u001b[1;33m\u001b[0m\u001b[0m\n",
      "\u001b[1;32m~\\AppData\\Local\\Programs\\Python\\Python37\\lib\\html\\parser.py\u001b[0m in \u001b[0;36mparse_endtag\u001b[1;34m(self, i)\u001b[0m\n\u001b[0;32m    419\u001b[0m                 \u001b[1;32mreturn\u001b[0m \u001b[0mgtpos\u001b[0m\u001b[1;33m\u001b[0m\u001b[0m\n\u001b[0;32m    420\u001b[0m \u001b[1;33m\u001b[0m\u001b[0m\n\u001b[1;32m--> 421\u001b[1;33m         \u001b[0mself\u001b[0m\u001b[1;33m.\u001b[0m\u001b[0mhandle_endtag\u001b[0m\u001b[1;33m(\u001b[0m\u001b[0melem\u001b[0m\u001b[1;33m)\u001b[0m\u001b[1;33m\u001b[0m\u001b[0m\n\u001b[0m\u001b[0;32m    422\u001b[0m         \u001b[0mself\u001b[0m\u001b[1;33m.\u001b[0m\u001b[0mclear_cdata_mode\u001b[0m\u001b[1;33m(\u001b[0m\u001b[1;33m)\u001b[0m\u001b[1;33m\u001b[0m\u001b[0m\n\u001b[0;32m    423\u001b[0m         \u001b[1;32mreturn\u001b[0m \u001b[0mgtpos\u001b[0m\u001b[1;33m\u001b[0m\u001b[0m\n",
      "\u001b[1;32m<ipython-input-91-5adda945ca84>\u001b[0m in \u001b[0;36mhandle_endtag\u001b[1;34m(self, tag)\u001b[0m\n\u001b[0;32m     28\u001b[0m                 \u001b[1;32mif\u001b[0m \u001b[1;34m\"Oslo\"\u001b[0m \u001b[1;32min\u001b[0m \u001b[0mself\u001b[0m\u001b[1;33m.\u001b[0m\u001b[0mto_test\u001b[0m \u001b[1;32mand\u001b[0m \u001b[1;34m\"Trondheim\"\u001b[0m \u001b[1;32min\u001b[0m \u001b[0mself\u001b[0m\u001b[1;33m.\u001b[0m\u001b[0mfrom_test\u001b[0m \u001b[1;32mand\u001b[0m \u001b[0mself\u001b[0m\u001b[1;33m.\u001b[0m\u001b[0mis_taken\u001b[0m\u001b[1;33m:\u001b[0m\u001b[1;33m\u001b[0m\u001b[0m\n\u001b[0;32m     29\u001b[0m                     \u001b[1;32mfor\u001b[0m \u001b[0mmail\u001b[0m \u001b[1;32min\u001b[0m \u001b[0memails\u001b[0m\u001b[1;33m:\u001b[0m\u001b[1;33m\u001b[0m\u001b[0m\n\u001b[1;32m---> 30\u001b[1;33m                         \u001b[0mgm\u001b[0m\u001b[1;33m.\u001b[0m\u001b[0msend_message\u001b[0m\u001b[1;33m(\u001b[0m\u001b[1;34m\"sjurbes@gmail.com\"\u001b[0m\u001b[1;33m,\u001b[0m\u001b[1;34m\"Returbil fra oslo til trondheim er ledig\"\u001b[0m\u001b[1;33m,\u001b[0m\u001b[1;34m\"Returbil fra oslo til trondheim er ledig\"\u001b[0m\u001b[1;33m)\u001b[0m\u001b[1;33m\u001b[0m\u001b[0m\n\u001b[0m\u001b[0;32m     31\u001b[0m                 \u001b[0mself\u001b[0m\u001b[1;33m.\u001b[0m\u001b[0min_td\u001b[0m \u001b[1;33m=\u001b[0m \u001b[1;32mFalse\u001b[0m\u001b[1;33m\u001b[0m\u001b[0m\n\u001b[0;32m     32\u001b[0m                 \u001b[0mself\u001b[0m\u001b[1;33m.\u001b[0m\u001b[0mcol_count\u001b[0m\u001b[1;33m=\u001b[0m\u001b[1;36m0\u001b[0m\u001b[1;33m\u001b[0m\u001b[0m\n",
      "\u001b[1;31mNameError\u001b[0m: name 'gm' is not defined"
     ]
    }
   ],
   "source": [
    "parser = MyHTMLParser()\n",
    "parser.feed(response.text)"
   ]
  },
  {
   "cell_type": "code",
   "execution_count": 2,
   "metadata": {},
   "outputs": [],
   "source": [
    "class Gmail(object):\n",
    "    def __init__(self, email, password):\n",
    "        self.email = email\n",
    "        self.password = password\n",
    "        self.server = 'smtp.gmail.com'\n",
    "        self.port = 587\n",
    "        session = smtplib.SMTP(self.server, self.port)        \n",
    "        session.ehlo()\n",
    "        session.starttls()\n",
    "        session.ehlo\n",
    "        session.login(self.email, self.password)\n",
    "        self.session = session\n",
    "\n",
    "    def send_message(self,to_email, subject, body):\n",
    "        ''' This must be removed '''\n",
    "        headers = [\n",
    "            \"From: \" + \"Barack Obama\",\n",
    "            \"Subject: \" + subject,\n",
    "            \"To: \" + to_email,\n",
    "            \"MIME-Version: 1.0\",\n",
    "           \"Content-Type: text/html\"]\n",
    "        headers = \"\\r\\n\".join(headers)\n",
    "        self.session.sendmail(\n",
    "            \"barrak.obama@us.gov\",\n",
    "            to_email,\n",
    "            headers + \"\\r\\n\\r\\n\" + body)\n",
    "\n",
    "\n",
    "#gm = Gmail('sjurpython@gmail.com', 'JegHarEnStorPikk.yoloswag2')"
   ]
  },
  {
   "cell_type": "code",
   "execution_count": 6,
   "metadata": {},
   "outputs": [],
   "source": [
    "gm.send_message(\"sjure@stud.ntnu.no\",\"Your president needs you\",\"I need you to vippse your friend Sjur 50kr for his nudles. It is a matter of national security.\")"
   ]
  },
  {
   "cell_type": "code",
   "execution_count": 33,
   "metadata": {},
   "outputs": [],
   "source": [
    "time.sleep(10)"
   ]
  },
  {
   "cell_type": "code",
   "execution_count": 34,
   "metadata": {},
   "outputs": [],
   "source": [
    "time.sleep(1)"
   ]
  },
  {
   "cell_type": "code",
   "execution_count": 36,
   "metadata": {},
   "outputs": [],
   "source": [
    "import random\n",
    "r = random.randint(1,30)"
   ]
  },
  {
   "cell_type": "code",
   "execution_count": 38,
   "metadata": {},
   "outputs": [
    {
     "name": "stdout",
     "output_type": "stream",
     "text": [
      "14\n"
     ]
    }
   ],
   "source": [
    "print(r)"
   ]
  },
  {
   "cell_type": "code",
   "execution_count": 1,
   "metadata": {},
   "outputs": [
    {
     "name": "stdout",
     "output_type": "stream",
     "text": [
      "Welcome to simple webscraping by SJUR \n",
      "\n",
      "\n"
     ]
    }
   ],
   "source": [
    "import requests\n",
    "import urllib.request\n",
    "import time\n",
    "import smtplib\n",
    "from html.parser import HTMLParser\n",
    "\n",
    "emails =[\"sjurbes@gmail.com\"]\n",
    "url = 'http://www.returbil.no/freecar.asp'\n",
    "\n",
    "print(\"Welcome to simple webscraping by SJUR \\n\\n\")\n",
    "\n",
    "\n",
    "class Gmail(object):\n",
    "    def __init__(self, email, password):\n",
    "        self.email = email\n",
    "        self.password = password\n",
    "        self.server = 'smtp.gmail.com'\n",
    "        self.port = 587\n",
    "        session = smtplib.SMTP(self.server, self.port)        \n",
    "        session.ehlo()\n",
    "        session.starttls()\n",
    "        session.ehlo\n",
    "        session.login(self.email, self.password)\n",
    "        self.session = session\n",
    "\n",
    "    def send_message(self,to_email, subject, body):\n",
    "        ''' This must be removed '''\n",
    "        headers = [\n",
    "            \"From: \" + self.email,\n",
    "            \"Subject: \" + subject,\n",
    "            \"To: \" + to_email,\n",
    "            \"MIME-Version: 1.0\",\n",
    "           \"Content-Type: text/html\"]\n",
    "        headers = \"\\r\\n\".join(headers)\n",
    "        self.session.sendmail(\n",
    "            self.email,\n",
    "            to_email,\n",
    "            headers + \"\\r\\n\\r\\n\" + body)\n",
    "\n",
    "\n",
    "emails =[\"sjurbes@gmail.com\"]\n",
    "class MyHTMLParser(HTMLParser):\n",
    "    def __init__(self,gm):\n",
    "        HTMLParser.__init__(self)\n",
    "        self.in_td= False\n",
    "        self.col_count=0\n",
    "        self.from_test = \"test\"\n",
    "        self.to_test = \"test\"\n",
    "        self.is_taken=False\n",
    "        self.gm = gm\n",
    "    \n",
    "    def handle_data(self,data):\n",
    "        if(self.in_td):\n",
    "            #print(data,self.col_count)\n",
    "            if self.col_count==6:\n",
    "                #print(\"from\",data)\n",
    "                self.from_test = data\n",
    "            elif self.col_count==8:\n",
    "                #print(\"to\",data)\n",
    "                self.to_test=data\n",
    "                #print(self.is_taken)\n",
    "\n",
    "    def handle_endtag(self,tag):\n",
    "        if (self.in_td):\n",
    "            if tag == \"tr\":\n",
    "                if \"Oslo\" in self.from_test and \"Trondheim\" in self.to_test and not self.is_taken:\n",
    "                    for mail in emails:\n",
    "                        self.gm.send_message(\"sjurbes@gmail.com\",\"Returbil fra oslo til trondheim er ledig\",\"Returbil fra oslo til trondheim er ledig\")\n",
    "                if \"Oslo\" in self.to_test and \"Trondheim\" in self.from_test and not self.is_taken:\n",
    "                    for mail in emails:\n",
    "                        self.gm.send_message(\"sjurbes@gmail.com\",\"Returbil fra oslo til trondheim er ledig\",\"Returbil fra oslo til trondheim er ledig\")\n",
    "                self.in_td = False\n",
    "                self.col_count=0\n",
    "                \n",
    "    def handle_starttag(self, tag, attrs):\n",
    "        if tag == 'tr':\n",
    "            try:\n",
    "                if attrs[0][1] == \"#EFEFEF\" and len(attrs)==1:\n",
    "                    self.in_td = True\n",
    "            except:\n",
    "                pass\n",
    "        if self.in_td:\n",
    "            if tag ==\"td\":\n",
    "                self.col_count+=1\n",
    "            if tag ==\"i\":\n",
    "                self.is_taken=True\n",
    "\n",
    "gm = Gmail('sjurpython@gmail.com', 'JegHarEnStorPikkOhyeyoloswag2')\n",
    "parser = MyHTMLParser(gm)\n",
    "response = requests.get(url)\n",
    "parser.feed(response.text)\n",
    "\n"
   ]
  },
  {
   "cell_type": "code",
   "execution_count": null,
   "metadata": {},
   "outputs": [],
   "source": []
  },
  {
   "cell_type": "code",
   "execution_count": null,
   "metadata": {},
   "outputs": [],
   "source": []
  }
 ],
 "metadata": {
  "kernelspec": {
   "display_name": "Python 3",
   "language": "python",
   "name": "python3"
  },
  "language_info": {
   "codemirror_mode": {
    "name": "ipython",
    "version": 3
   },
   "file_extension": ".py",
   "mimetype": "text/x-python",
   "name": "python",
   "nbconvert_exporter": "python",
   "pygments_lexer": "ipython3",
   "version": "3.7.0"
  }
 },
 "nbformat": 4,
 "nbformat_minor": 2
}
